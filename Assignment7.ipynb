{
  "nbformat": 4,
  "nbformat_minor": 0,
  "metadata": {
    "colab": {
      "provenance": []
    },
    "kernelspec": {
      "name": "python3",
      "display_name": "Python 3"
    },
    "language_info": {
      "name": "python"
    }
  },
  "cells": [
    {
      "cell_type": "markdown",
      "source": [
        "Q1. What is a RESTful API?\n",
        "*  A RESTful API is a type of API that uses the principles of Representational State Transfer (REST) to communicate between different systems over the internet. It's a popular choice for web services and mobile applications, providing a simple, standardized way for clients and servers to interact."
      ],
      "metadata": {
        "id": "IhDPB14Tq9PI"
      }
    },
    {
      "cell_type": "markdown",
      "source": [
        "Q2. Explain the concept of API specification\n",
        "*  An API (Application Programming Interface) specification is a blueprint that describes how an API behaves and interacts with other systems. It's essentially a formal document detailing the API's operations, endpoints, input/output formats, and data models, acting as a contract between the API provider and its users."
      ],
      "metadata": {
        "id": "xDCBNIrOrUCq"
      }
    },
    {
      "cell_type": "markdown",
      "source": [
        "Q3. What is Flask, and why is it popular for building APIs?\n",
        "*  Flask is a lightweight and flexible micro-framework for building web applications and APIs in Python. It's known for its simplicity and ease of use, making it a popular choice for creating RESTful APIs and microservice"
      ],
      "metadata": {
        "id": "ep2wWX1yrd74"
      }
    },
    {
      "cell_type": "markdown",
      "source": [
        "Q4. What is routing in Flask?\n",
        "*  In Flask, routing is the process of mapping specific URLs to Python functions. This mechanism allows the application to respond to different client requests by executing the appropriate code.\n"
      ],
      "metadata": {
        "id": "JETMGVO2rqfg"
      }
    },
    {
      "cell_type": "markdown",
      "source": [
        "Q5. How do you create a simple Flask application.\n",
        "*  "
      ],
      "metadata": {
        "id": "anNzHi3kr0XB"
      }
    }
  ]
}